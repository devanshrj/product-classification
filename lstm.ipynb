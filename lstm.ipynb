{
  "nbformat": 4,
  "nbformat_minor": 0,
  "metadata": {
    "accelerator": "GPU",
    "colab": {
      "name": "lstm.ipynb",
      "provenance": [],
      "collapsed_sections": []
    },
    "kernelspec": {
      "display_name": "Python 3",
      "language": "python",
      "name": "python3"
    },
    "language_info": {
      "codemirror_mode": {
        "name": "ipython",
        "version": 3
      },
      "file_extension": ".py",
      "mimetype": "text/x-python",
      "name": "python",
      "nbconvert_exporter": "python",
      "pygments_lexer": "ipython3",
      "version": "3.7.10"
    },
    "widgets": {
      "application/vnd.jupyter.widget-state+json": {
        "20fe914bc94b4d23ba0f05356cbcd033": {
          "model_module": "@jupyter-widgets/controls",
          "model_name": "HBoxModel",
          "state": {
            "_view_name": "HBoxView",
            "_dom_classes": [],
            "_model_name": "HBoxModel",
            "_view_module": "@jupyter-widgets/controls",
            "_model_module_version": "1.5.0",
            "_view_count": null,
            "_view_module_version": "1.5.0",
            "box_style": "",
            "layout": "IPY_MODEL_eed6087a606f49f8b21a692880cb61cd",
            "_model_module": "@jupyter-widgets/controls",
            "children": [
              "IPY_MODEL_8e932512bb4746b299078a5e5f7d0adb",
              "IPY_MODEL_f97a55e3c5fe43d1bb775263818b1f3d"
            ]
          }
        },
        "eed6087a606f49f8b21a692880cb61cd": {
          "model_module": "@jupyter-widgets/base",
          "model_name": "LayoutModel",
          "state": {
            "_view_name": "LayoutView",
            "grid_template_rows": null,
            "right": null,
            "justify_content": null,
            "_view_module": "@jupyter-widgets/base",
            "overflow": null,
            "_model_module_version": "1.2.0",
            "_view_count": null,
            "flex_flow": null,
            "width": null,
            "min_width": null,
            "border": null,
            "align_items": null,
            "bottom": null,
            "_model_module": "@jupyter-widgets/base",
            "top": null,
            "grid_column": null,
            "overflow_y": null,
            "overflow_x": null,
            "grid_auto_flow": null,
            "grid_area": null,
            "grid_template_columns": null,
            "flex": null,
            "_model_name": "LayoutModel",
            "justify_items": null,
            "grid_row": null,
            "max_height": null,
            "align_content": null,
            "visibility": null,
            "align_self": null,
            "height": null,
            "min_height": null,
            "padding": null,
            "grid_auto_rows": null,
            "grid_gap": null,
            "max_width": null,
            "order": null,
            "_view_module_version": "1.2.0",
            "grid_template_areas": null,
            "object_position": null,
            "object_fit": null,
            "grid_auto_columns": null,
            "margin": null,
            "display": null,
            "left": null
          }
        },
        "8e932512bb4746b299078a5e5f7d0adb": {
          "model_module": "@jupyter-widgets/controls",
          "model_name": "FloatProgressModel",
          "state": {
            "_view_name": "ProgressView",
            "style": "IPY_MODEL_c3adfc00b0cb467eb7f6151e0ebc57cf",
            "_dom_classes": [],
            "description": "100%",
            "_model_name": "FloatProgressModel",
            "bar_style": "success",
            "max": 25,
            "_view_module": "@jupyter-widgets/controls",
            "_model_module_version": "1.5.0",
            "value": 25,
            "_view_count": null,
            "_view_module_version": "1.5.0",
            "orientation": "horizontal",
            "min": 0,
            "description_tooltip": null,
            "_model_module": "@jupyter-widgets/controls",
            "layout": "IPY_MODEL_7820b59b34c944fba07d0bb135840694"
          }
        },
        "f97a55e3c5fe43d1bb775263818b1f3d": {
          "model_module": "@jupyter-widgets/controls",
          "model_name": "HTMLModel",
          "state": {
            "_view_name": "HTMLView",
            "style": "IPY_MODEL_c9508675bca746139f68a0a156c8f640",
            "_dom_classes": [],
            "description": "",
            "_model_name": "HTMLModel",
            "placeholder": "​",
            "_view_module": "@jupyter-widgets/controls",
            "_model_module_version": "1.5.0",
            "value": " 25/25 [01:12&lt;00:00,  2.88s/it]",
            "_view_count": null,
            "_view_module_version": "1.5.0",
            "description_tooltip": null,
            "_model_module": "@jupyter-widgets/controls",
            "layout": "IPY_MODEL_027a6cc029a945c39a67234e049af6c4"
          }
        },
        "c3adfc00b0cb467eb7f6151e0ebc57cf": {
          "model_module": "@jupyter-widgets/controls",
          "model_name": "ProgressStyleModel",
          "state": {
            "_view_name": "StyleView",
            "_model_name": "ProgressStyleModel",
            "description_width": "initial",
            "_view_module": "@jupyter-widgets/base",
            "_model_module_version": "1.5.0",
            "_view_count": null,
            "_view_module_version": "1.2.0",
            "bar_color": null,
            "_model_module": "@jupyter-widgets/controls"
          }
        },
        "7820b59b34c944fba07d0bb135840694": {
          "model_module": "@jupyter-widgets/base",
          "model_name": "LayoutModel",
          "state": {
            "_view_name": "LayoutView",
            "grid_template_rows": null,
            "right": null,
            "justify_content": null,
            "_view_module": "@jupyter-widgets/base",
            "overflow": null,
            "_model_module_version": "1.2.0",
            "_view_count": null,
            "flex_flow": null,
            "width": null,
            "min_width": null,
            "border": null,
            "align_items": null,
            "bottom": null,
            "_model_module": "@jupyter-widgets/base",
            "top": null,
            "grid_column": null,
            "overflow_y": null,
            "overflow_x": null,
            "grid_auto_flow": null,
            "grid_area": null,
            "grid_template_columns": null,
            "flex": null,
            "_model_name": "LayoutModel",
            "justify_items": null,
            "grid_row": null,
            "max_height": null,
            "align_content": null,
            "visibility": null,
            "align_self": null,
            "height": null,
            "min_height": null,
            "padding": null,
            "grid_auto_rows": null,
            "grid_gap": null,
            "max_width": null,
            "order": null,
            "_view_module_version": "1.2.0",
            "grid_template_areas": null,
            "object_position": null,
            "object_fit": null,
            "grid_auto_columns": null,
            "margin": null,
            "display": null,
            "left": null
          }
        },
        "c9508675bca746139f68a0a156c8f640": {
          "model_module": "@jupyter-widgets/controls",
          "model_name": "DescriptionStyleModel",
          "state": {
            "_view_name": "StyleView",
            "_model_name": "DescriptionStyleModel",
            "description_width": "",
            "_view_module": "@jupyter-widgets/base",
            "_model_module_version": "1.5.0",
            "_view_count": null,
            "_view_module_version": "1.2.0",
            "_model_module": "@jupyter-widgets/controls"
          }
        },
        "027a6cc029a945c39a67234e049af6c4": {
          "model_module": "@jupyter-widgets/base",
          "model_name": "LayoutModel",
          "state": {
            "_view_name": "LayoutView",
            "grid_template_rows": null,
            "right": null,
            "justify_content": null,
            "_view_module": "@jupyter-widgets/base",
            "overflow": null,
            "_model_module_version": "1.2.0",
            "_view_count": null,
            "flex_flow": null,
            "width": null,
            "min_width": null,
            "border": null,
            "align_items": null,
            "bottom": null,
            "_model_module": "@jupyter-widgets/base",
            "top": null,
            "grid_column": null,
            "overflow_y": null,
            "overflow_x": null,
            "grid_auto_flow": null,
            "grid_area": null,
            "grid_template_columns": null,
            "flex": null,
            "_model_name": "LayoutModel",
            "justify_items": null,
            "grid_row": null,
            "max_height": null,
            "align_content": null,
            "visibility": null,
            "align_self": null,
            "height": null,
            "min_height": null,
            "padding": null,
            "grid_auto_rows": null,
            "grid_gap": null,
            "max_width": null,
            "order": null,
            "_view_module_version": "1.2.0",
            "grid_template_areas": null,
            "object_position": null,
            "object_fit": null,
            "grid_auto_columns": null,
            "margin": null,
            "display": null,
            "left": null
          }
        }
      }
    }
  },
  "cells": [
    {
      "cell_type": "markdown",
      "metadata": {
        "id": "cO4kY-vFNiaF"
      },
      "source": [
        "## LSTM Classifier"
      ]
    },
    {
      "cell_type": "markdown",
      "metadata": {
        "id": "7rtq4YqCTPFx"
      },
      "source": [
        "## Imports"
      ]
    },
    {
      "cell_type": "code",
      "metadata": {
        "id": "3hH-88adSaTZ"
      },
      "source": [
        "import matplotlib.pyplot as plt\n",
        "import numpy as np\n",
        "import pandas as pd\n",
        "import random\n",
        "import torch\n",
        "import torch.nn as nn\n",
        "import torch.optim as optim\n",
        "import torchtext.legacy as tt\n",
        "import seaborn as sns\n",
        "\n",
        "from tqdm.notebook import tqdm"
      ],
      "execution_count": 1,
      "outputs": []
    },
    {
      "cell_type": "markdown",
      "metadata": {
        "id": "Z0EpCjuETR0W"
      },
      "source": [
        "## Data Preparation"
      ]
    },
    {
      "cell_type": "code",
      "metadata": {
        "id": "hf9s3lcFTMgG"
      },
      "source": [
        "# to reproduce same results\n",
        "SEED = 1234\n",
        "\n",
        "# torch\n",
        "torch.manual_seed(SEED)\n",
        "torch.backends.cudnn.deterministic = True  "
      ],
      "execution_count": 2,
      "outputs": []
    },
    {
      "cell_type": "code",
      "metadata": {
        "id": "SwOY_oynWCrB"
      },
      "source": [
        "# define TEXT, LABEL and fields\n",
        "TEXT = tt.data.Field(tokenize='spacy', batch_first=True, include_lengths=True)\n",
        "LABEL = tt.data.LabelField(dtype = torch.long, batch_first=True)\n",
        "\n",
        "fields = [('label', LABEL), ('text',TEXT)]"
      ],
      "execution_count": 3,
      "outputs": []
    },
    {
      "cell_type": "code",
      "metadata": {
        "colab": {
          "base_uri": "https://localhost:8080/"
        },
        "id": "fC_Z4vWpWL9C",
        "outputId": "e0a706aa-907c-45f7-a613-d6d43edc580c"
      },
      "source": [
        "# load dataset\n",
        "training_data = tt.data.TabularDataset(path='preprocessed.csv', format='csv', fields = fields, skip_header = True)\n",
        "\n",
        "#print preprocessed text\n",
        "print(vars(training_data.examples[0]))\n",
        "\n",
        "# create train and test splits\n",
        "train_data, test_data = training_data.split(split_ratio=0.8, random_state=random.seed(SEED))\n",
        "\n",
        "# initialize glove embeddings\n",
        "TEXT.build_vocab(train_data, min_freq=3, vectors = \"glove.6B.100d\")  \n",
        "LABEL.build_vocab(train_data) "
      ],
      "execution_count": 4,
      "outputs": [
        {
          "output_type": "stream",
          "text": [
            "{'label': 'Clothing', 'text': ['key', 'features', 'alisha', 'solid', 'womens', 'cycling', 'shorts', 'cotton', 'lycra', 'navy', 'red', 'navyspecifications', 'alisha', 'solid', 'womens', 'cycling', 'shorts', 'shorts', 'details', 'number', 'contents', 'sales', 'package', 'pack', 'fabric', 'cotton', 'lycra', 'type', 'cycling', 'shorts', 'general', 'details', 'pattern', 'solid', 'ideal', 'womens', 'fabric', 'care', 'gentle', 'machine', 'wash', 'lukewarm', 'water', 'bleach', 'additional', 'details', 'style', 'code', 'althtp', 'box', 'shorts']}\n"
          ],
          "name": "stdout"
        }
      ]
    },
    {
      "cell_type": "code",
      "metadata": {
        "id": "IyPkQHZkaj_N"
      },
      "source": [
        "# check if cuda is available\n",
        "device = torch.device('cuda' if torch.cuda.is_available() else 'cpu')  \n",
        "\n",
        "# set batch size\n",
        "BATCH_SIZE = 128\n",
        "\n",
        "# load an iterator\n",
        "train_iterator, test_iterator = tt.data.BucketIterator.splits(\n",
        "    (train_data, test_data), \n",
        "    batch_size = BATCH_SIZE,\n",
        "    sort_key = lambda x: len(x.text),\n",
        "    sort_within_batch=True,\n",
        "    device = device)"
      ],
      "execution_count": 5,
      "outputs": []
    },
    {
      "cell_type": "code",
      "metadata": {
        "id": "SG5UZIb8csJ5"
      },
      "source": [
        "class LSTMClassifier(nn.Module):\n",
        "    \n",
        "    def __init__(self, vocab_size, embedding_dim, hidden_dim, output_dim, n_layers, \n",
        "                 bidirectional, dropout):\n",
        "        \"\"\"\n",
        "        Initialise LSTM classifier. Define the layers required.\n",
        "        \n",
        "        Args:\n",
        "            vocab_size: Size of vocabulary\n",
        "            embedding_dim: Size of embeddings\n",
        "            hidden_dim: Number of features in hidden state of LSTM\n",
        "            output_dim: Number of features in outpu\n",
        "            n_layers: Number of LSTM layers\n",
        "            bidirectional: Directionality of LSTM layers\n",
        "            dropout: Dropout probability\n",
        "        \"\"\"\n",
        "\n",
        "        super().__init__()          \n",
        "        \n",
        "        self.embedding = nn.Embedding(vocab_size, embedding_dim)\n",
        "        \n",
        "        self.lstm = nn.LSTM(embedding_dim, \n",
        "                           hidden_dim, \n",
        "                           num_layers=n_layers, \n",
        "                           bidirectional=bidirectional, \n",
        "                           dropout=dropout,\n",
        "                           batch_first=True)\n",
        "        \n",
        "        self.linear = nn.Linear(hidden_dim * 2, output_dim)\n",
        "        \n",
        "    def forward(self, text, text_lengths):\n",
        "        \"\"\"\n",
        "        Forward pass for LSTM layer.\n",
        "        \n",
        "        Args:\n",
        "            text: input string (description in this case)\n",
        "            text_lengths: length of text (required for packing)\n",
        "            \n",
        "        \"\"\"\n",
        "        # text = [batch size, text length]\n",
        "\n",
        "        embedded = self.embedding(text)\n",
        "        # embedded = [batch size, text length, embed dim]\n",
        "      \n",
        "        #packed sequence\n",
        "        packed_embedded = nn.utils.rnn.pack_padded_sequence(embedded, text_lengths.cpu(), batch_first=True)\n",
        "        \n",
        "        packed_output, (hidden, cell) = self.lstm(packed_embedded)\n",
        "        # hidden = [batch size, num layers * num directions, hidden dim]\n",
        "        # cell = [batch size, num layers * num directions, hidden dim]\n",
        "        \n",
        "        # concat the final forward and backward hidden state\n",
        "        hidden = torch.cat((hidden[-2,:,:], hidden[-1,:,:]), dim = 1)\n",
        "                \n",
        "        # hidden = [batch size, hidden dim * num directions]\n",
        "        outputs = self.linear(hidden)\n",
        "        \n",
        "        return outputs"
      ],
      "execution_count": 6,
      "outputs": []
    },
    {
      "cell_type": "code",
      "metadata": {
        "colab": {
          "base_uri": "https://localhost:8080/"
        },
        "id": "zB5qiOq5dLxY",
        "outputId": "7d06f06e-3515-4a4d-e3d5-2d17073b75f4"
      },
      "source": [
        "# hyperparameters\n",
        "size_of_vocab = len(TEXT.vocab)\n",
        "embedding_dim = 100\n",
        "num_hidden_nodes = 64\n",
        "num_output_nodes = 15\n",
        "num_layers = 3\n",
        "bidirection = True\n",
        "dropout = 0.2\n",
        "\n",
        "# instantiate the model\n",
        "model = LSTMClassifier(size_of_vocab, embedding_dim, num_hidden_nodes,num_output_nodes, num_layers, \n",
        "                   bidirectional = True, dropout = dropout)\n",
        "\n",
        "# model architecture\n",
        "print(model)"
      ],
      "execution_count": 7,
      "outputs": [
        {
          "output_type": "stream",
          "text": [
            "LSTMClassifier(\n",
            "  (embedding): Embedding(10546, 100)\n",
            "  (lstm): LSTM(100, 64, num_layers=3, batch_first=True, dropout=0.2, bidirectional=True)\n",
            "  (linear): Linear(in_features=128, out_features=15, bias=True)\n",
            ")\n"
          ],
          "name": "stdout"
        }
      ]
    },
    {
      "cell_type": "code",
      "metadata": {
        "colab": {
          "base_uri": "https://localhost:8080/"
        },
        "id": "O7IEjBEMdUpc",
        "outputId": "c98ac309-7c17-4c21-9a15-37930a9cf3e8"
      },
      "source": [
        "# initialize the pretrained embedding\n",
        "pretrained_embeddings = TEXT.vocab.vectors\n",
        "model.embedding.weight.data.copy_(pretrained_embeddings)\n",
        "\n",
        "print(pretrained_embeddings.shape)"
      ],
      "execution_count": 8,
      "outputs": [
        {
          "output_type": "stream",
          "text": [
            "torch.Size([10546, 100])\n"
          ],
          "name": "stdout"
        }
      ]
    },
    {
      "cell_type": "code",
      "metadata": {
        "id": "hY4JZX5Tdibn"
      },
      "source": [
        "# optimizer and loss\n",
        "optimizer = optim.Adam(model.parameters())\n",
        "criterion = nn.CrossEntropyLoss()\n",
        "\n",
        "#define metric\n",
        "def accuracy(y_pred, y_test):\n",
        "    y_pred_soft = torch.log_softmax(y_pred, dim = 1)\n",
        "    _, y_pred_label = torch.max(y_pred_soft, dim = 1)    \n",
        "    \n",
        "    correct_pred = (y_pred_label == y_test).float()\n",
        "    acc = correct_pred.sum() / len(correct_pred)\n",
        "    acc = torch.round(acc * 100)\n",
        "    \n",
        "    return acc\n",
        "    \n",
        "accuracy_stats = {\n",
        "    'train': [],\n",
        "    'test': []\n",
        "}\n",
        "\n",
        "loss_stats = {\n",
        "    'train': [],\n",
        "    'test': []\n",
        "}\n",
        "\n",
        "# push to cuda if available\n",
        "model = model.to(device)\n",
        "criterion = criterion.to(device)"
      ],
      "execution_count": 9,
      "outputs": []
    },
    {
      "cell_type": "code",
      "metadata": {
        "id": "eoQYfSetgyCY"
      },
      "source": [
        "def train(model, iterator, optimizer, criterion):\n",
        "    # initialize for every epoch\n",
        "    epoch_loss = 0\n",
        "    epoch_acc = 0\n",
        "    \n",
        "    # model training phase\n",
        "    model.train()  \n",
        "    \n",
        "    for batch in iterator:\n",
        "        # reset the gradients after every batch\n",
        "        optimizer.zero_grad()   \n",
        "        \n",
        "        # retrieve text and text length\n",
        "        text, text_lengths = batch.text   \n",
        "        \n",
        "        # convert output of model to 1D tensor\n",
        "        predictions = model(text, text_lengths).squeeze()  \n",
        "        \n",
        "        # compute loss and accuracy\n",
        "        loss = criterion(predictions, batch.label)\n",
        "        acc = accuracy(predictions, batch.label)   \n",
        "        \n",
        "        # backpropage the loss and compute the gradients\n",
        "        loss.backward()       \n",
        "        \n",
        "        # update weights\n",
        "        optimizer.step()      \n",
        "        \n",
        "        # loss and accuracy\n",
        "        epoch_loss += loss.item()  \n",
        "        epoch_acc += acc.item()    \n",
        "        \n",
        "    return epoch_loss / len(iterator), epoch_acc / len(iterator)"
      ],
      "execution_count": 10,
      "outputs": []
    },
    {
      "cell_type": "code",
      "metadata": {
        "id": "ZqyIMvaTfic-"
      },
      "source": [
        "def evaluate(model, iterator, criterion):\n",
        "    # initialize for every epoch\n",
        "    epoch_loss = 0\n",
        "    epoch_acc = 0\n",
        "\n",
        "    # model eval phase (dropout layers are not used)\n",
        "    model.eval()\n",
        "    \n",
        "    # deactivate gradient computatiom\n",
        "    with torch.no_grad():\n",
        "    \n",
        "        for batch in iterator:\n",
        "        \n",
        "            # retrieve text and text length\n",
        "            text, text_lengths = batch.text\n",
        "            \n",
        "            # convert output of model to 1D tensor\n",
        "            predictions = model(text, text_lengths).squeeze()\n",
        "            \n",
        "            # compute loss and accuracy\n",
        "            loss = criterion(predictions, batch.label)\n",
        "            acc = accuracy(predictions, batch.label)\n",
        "            \n",
        "            # loss and accuracy\n",
        "            epoch_loss += loss.item()\n",
        "            epoch_acc += acc.item()\n",
        "        \n",
        "    return epoch_loss / len(iterator), epoch_acc / len(iterator)"
      ],
      "execution_count": 11,
      "outputs": []
    },
    {
      "cell_type": "code",
      "metadata": {
        "colab": {
          "base_uri": "https://localhost:8080/",
          "height": 916,
          "referenced_widgets": [
            "20fe914bc94b4d23ba0f05356cbcd033",
            "eed6087a606f49f8b21a692880cb61cd",
            "8e932512bb4746b299078a5e5f7d0adb",
            "f97a55e3c5fe43d1bb775263818b1f3d",
            "c3adfc00b0cb467eb7f6151e0ebc57cf",
            "7820b59b34c944fba07d0bb135840694",
            "c9508675bca746139f68a0a156c8f640",
            "027a6cc029a945c39a67234e049af6c4"
          ]
        },
        "id": "a0RIhmCsf3lr",
        "outputId": "5fbc551f-d888-4d10-e3ee-a658e61b63aa"
      },
      "source": [
        "EPOCHS = 25\n",
        "best_loss = float('inf')\n",
        "\n",
        "for e in tqdm(range(1, EPOCHS+1)):\n",
        "    # train the model\n",
        "    train_loss, train_acc = train(model, train_iterator, optimizer, criterion)\n",
        "    \n",
        "    # evaluate the model\n",
        "    test_loss, test_acc = evaluate(model, test_iterator, criterion)\n",
        "    \n",
        "    loss_stats['train'].append(train_loss)\n",
        "    loss_stats['test'].append(test_loss)\n",
        "    accuracy_stats['train'].append(train_acc)\n",
        "    accuracy_stats['test'].append(test_acc)\n",
        "\n",
        "    # save the best model\n",
        "    if test_loss < best_loss:\n",
        "        best_loss = test_loss\n",
        "        torch.save(model.state_dict(), 'saved_weights.pt')\n",
        "    \n",
        "    print(f'Epoch {e+0:03}: | Train Loss: {train_loss:.5f} | Test Loss: {test_loss:.5f}')\n",
        "    print(f'Train Acc: {train_acc:.3f}| Test Acc: {test_acc:.3f}')"
      ],
      "execution_count": 12,
      "outputs": [
        {
          "output_type": "display_data",
          "data": {
            "application/vnd.jupyter.widget-view+json": {
              "model_id": "20fe914bc94b4d23ba0f05356cbcd033",
              "version_minor": 0,
              "version_major": 2
            },
            "text/plain": [
              "HBox(children=(FloatProgress(value=0.0, max=25.0), HTML(value='')))"
            ]
          },
          "metadata": {
            "tags": []
          }
        },
        {
          "output_type": "stream",
          "text": [
            "Epoch 001: | Train Loss: 1.68051 | Test Loss: 1.16408\n",
            "Train Acc: 50.923| Test Acc: 61.267\n",
            "Epoch 002: | Train Loss: 0.84045 | Test Loss: 0.53868\n",
            "Train Acc: 73.103| Test Acc: 82.833\n",
            "Epoch 003: | Train Loss: 0.38259 | Test Loss: 0.31172\n",
            "Train Acc: 89.051| Test Acc: 90.900\n",
            "Epoch 004: | Train Loss: 0.19802 | Test Loss: 0.18090\n",
            "Train Acc: 94.624| Test Acc: 95.167\n",
            "Epoch 005: | Train Loss: 0.12573 | Test Loss: 0.17088\n",
            "Train Acc: 96.650| Test Acc: 94.900\n",
            "Epoch 006: | Train Loss: 0.09236 | Test Loss: 0.13192\n",
            "Train Acc: 97.504| Test Acc: 96.333\n",
            "Epoch 007: | Train Loss: 0.07876 | Test Loss: 0.12335\n",
            "Train Acc: 97.897| Test Acc: 96.167\n",
            "Epoch 008: | Train Loss: 0.05513 | Test Loss: 0.11222\n",
            "Train Acc: 98.479| Test Acc: 96.933\n",
            "Epoch 009: | Train Loss: 0.06176 | Test Loss: 0.11318\n",
            "Train Acc: 98.154| Test Acc: 96.733\n",
            "Epoch 010: | Train Loss: 0.04342 | Test Loss: 0.10854\n",
            "Train Acc: 98.761| Test Acc: 97.267\n",
            "Epoch 011: | Train Loss: 0.03263 | Test Loss: 0.11337\n",
            "Train Acc: 99.077| Test Acc: 97.033\n",
            "Epoch 012: | Train Loss: 0.02811 | Test Loss: 0.11466\n",
            "Train Acc: 99.197| Test Acc: 97.067\n",
            "Epoch 013: | Train Loss: 0.02217 | Test Loss: 0.11719\n",
            "Train Acc: 99.316| Test Acc: 97.233\n",
            "Epoch 014: | Train Loss: 0.02049 | Test Loss: 0.11535\n",
            "Train Acc: 99.308| Test Acc: 96.867\n",
            "Epoch 015: | Train Loss: 0.01902 | Test Loss: 0.13128\n",
            "Train Acc: 99.402| Test Acc: 96.833\n",
            "Epoch 016: | Train Loss: 0.01830 | Test Loss: 0.11930\n",
            "Train Acc: 99.368| Test Acc: 96.700\n",
            "Epoch 017: | Train Loss: 0.02215 | Test Loss: 0.13168\n",
            "Train Acc: 99.231| Test Acc: 96.567\n",
            "Epoch 018: | Train Loss: 0.03147 | Test Loss: 0.11776\n",
            "Train Acc: 98.966| Test Acc: 97.000\n",
            "Epoch 019: | Train Loss: 0.01806 | Test Loss: 0.11093\n",
            "Train Acc: 99.419| Test Acc: 97.233\n",
            "Epoch 020: | Train Loss: 0.00919 | Test Loss: 0.11468\n",
            "Train Acc: 99.701| Test Acc: 97.133\n",
            "Epoch 021: | Train Loss: 0.01025 | Test Loss: 0.12167\n",
            "Train Acc: 99.624| Test Acc: 97.433\n",
            "Epoch 022: | Train Loss: 0.00890 | Test Loss: 0.12139\n",
            "Train Acc: 99.692| Test Acc: 97.100\n",
            "Epoch 023: | Train Loss: 0.00596 | Test Loss: 0.12713\n",
            "Train Acc: 99.803| Test Acc: 97.067\n",
            "Epoch 024: | Train Loss: 0.01125 | Test Loss: 0.12186\n",
            "Train Acc: 99.573| Test Acc: 97.300\n",
            "Epoch 025: | Train Loss: 0.00716 | Test Loss: 0.11942\n",
            "Train Acc: 99.726| Test Acc: 97.300\n",
            "\n"
          ],
          "name": "stdout"
        }
      ]
    },
    {
      "cell_type": "code",
      "metadata": {
        "colab": {
          "base_uri": "https://localhost:8080/",
          "height": 475
        },
        "id": "1q0RR7V0hCwI",
        "outputId": "6107e54e-de58-40d9-c9b6-464796236e3e"
      },
      "source": [
        "# create dataframes\n",
        "train_test_acc_df = pd.DataFrame.from_dict(accuracy_stats).reset_index().melt(id_vars=['index']).rename(columns={\"index\":\"epochs\"})\n",
        "train_test_loss_df = pd.DataFrame.from_dict(loss_stats).reset_index().melt(id_vars=['index']).rename(columns={\"index\":\"epochs\"})\n",
        "\n",
        "# plot the dataframes\n",
        "fig, axes = plt.subplots(nrows=1, ncols=2, figsize=(20,7))\n",
        "sns.lineplot(data=train_test_acc_df, x = \"epochs\", y=\"value\", hue=\"variable\",  ax=axes[0]).set_title('Train-Test Accuracy/Epoch')\n",
        "sns.lineplot(data=train_test_loss_df, x = \"epochs\", y=\"value\", hue=\"variable\", ax=axes[1]).set_title('Train-Test Loss/Epoch')"
      ],
      "execution_count": 13,
      "outputs": [
        {
          "output_type": "execute_result",
          "data": {
            "text/plain": [
              "Text(0.5, 1.0, 'Train-Test Loss/Epoch')"
            ]
          },
          "metadata": {
            "tags": []
          },
          "execution_count": 13
        },
        {
          "output_type": "display_data",
          "data": {
            "image/png": "[encoded data removed]",
            "text/plain": [
              "<Figure size 1440x504 with 2 Axes>"
            ]
          },
          "metadata": {
            "tags": [],
            "needs_background": "light"
          }
        }
      ]
    }
  ]
}