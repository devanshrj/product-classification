{
 "cells": [
  {
   "cell_type": "markdown",
   "id": "urlZb_uzCg99",
   "metadata": {
    "id": "urlZb_uzCg99"
   },
   "source": [
    "# Naives Bayes Classifier\n"
   ]
  },
  {
   "cell_type": "markdown",
   "id": "eMl4FGkiCruZ",
   "metadata": {
    "id": "eMl4FGkiCruZ"
   },
   "source": [
    "## Imports"
   ]
  },
  {
   "cell_type": "code",
   "execution_count": 1,
   "id": "stainless-modification",
   "metadata": {
    "id": "stainless-modification"
   },
   "outputs": [],
   "source": [
    "import numpy as np\n",
    "import pandas as pd\n",
    "import seaborn as sns\n",
    "import matplotlib.pyplot as plt\n",
    "import scattertext as st\n",
    "import spacy\n",
    "\n",
    "from sklearn import model_selection, naive_bayes, preprocessing\n",
    "from sklearn.feature_extraction.text import TfidfVectorizer, CountVectorizer\n",
    "from sklearn.metrics import classification_report"
   ]
  },
  {
   "cell_type": "code",
   "execution_count": 2,
   "id": "NS-Iu9MLwQbu",
   "metadata": {
    "id": "NS-Iu9MLwQbu"
   },
   "outputs": [],
   "source": [
    "# stopwords from spaCy\n",
    "nlp = spacy.load('en_core_web_sm')"
   ]
  },
  {
   "cell_type": "markdown",
   "id": "WlcOUlQjCvKk",
   "metadata": {
    "id": "WlcOUlQjCvKk"
   },
   "source": [
    "## Data Preparation"
   ]
  },
  {
   "cell_type": "code",
   "execution_count": 3,
   "id": "sexual-cowboy",
   "metadata": {
    "id": "sexual-cowboy"
   },
   "outputs": [],
   "source": [
    "stop_words = nlp.Defaults.stop_words\n",
    "\n",
    "def preprocess(string):\n",
    "    \"\"\"\n",
    "    Preprocess the input string. \n",
    "\n",
    "    Pre-process steps:\n",
    "        1) Remove non-alphabetic characters and spaces\n",
    "        2) Convert the string to lowercase\n",
    "        3) Remove stopwords from the given string.\n",
    "    \n",
    "    Example:\n",
    "        string = \"   Hey,     how's it    going?    \"\n",
    "        output = \"hey hows going\"\n",
    "    \n",
    "    Args:\n",
    "        string (str): Input string to preprocess.\n",
    "    \n",
    "    Returns:\n",
    "        words (list): List of strings containing words in the input string.\n",
    "    \"\"\"\n",
    "    # remove all characters apart from alphabets and spaces\n",
    "    string = ''.join(c for c in string if (c.isalpha() or c.isspace()))\n",
    "    # remove unnecessary whitespaces\n",
    "    string = ' '.join(string.split())\n",
    "    # convert all characters to lowercase\n",
    "    string = string.lower()\n",
    "    # remove stopwords from the string\n",
    "    string = ' '.join([word for word in string.split() if word not in stop_words])\n",
    "\n",
    "    return string"
   ]
  },
  {
   "cell_type": "code",
   "execution_count": 4,
   "id": "broad-richmond",
   "metadata": {
    "colab": {
     "base_uri": "https://localhost:8080/",
     "height": 37
    },
    "id": "broad-richmond",
    "outputId": "92a086b9-1a45-4cbc-f704-f8285d66e823"
   },
   "outputs": [
    {
     "data": {
      "text/plain": [
       "'hey hows going'"
      ]
     },
     "execution_count": 4,
     "metadata": {},
     "output_type": "execute_result"
    }
   ],
   "source": [
    "preprocess(\"   Hey,     how's it    going?    \")"
   ]
  },
  {
   "cell_type": "code",
   "execution_count": 5,
   "id": "outstanding-ghost",
   "metadata": {
    "id": "outstanding-ghost"
   },
   "outputs": [],
   "source": [
    "def get_category(string):\n",
    "    \"\"\"\n",
    "    Extract the primary category from the string.\n",
    "    The primary category is the first category in the column \"product_category_tree\", and is followed by ' >>'.\n",
    "    Further, some products don't seem to have a primary category and have the product stated as the caegory itself.\n",
    "    We can drop such categories as they are not associated with more than 10 products each.\n",
    "    \n",
    "    Example:\n",
    "        string = '[\"Furniture >> Living Room Furniture >> Sofa Beds & Futons >> FabHomeDecor Fabric Double Sofa Bed (Finish Colo...\"]'\n",
    "        output = 'Furniture'\n",
    "    \n",
    "    Args:\n",
    "        string (str): Input string to extract primary category.\n",
    "    \n",
    "    Returns:\n",
    "        words (list): Primary category for the product.\n",
    "    \"\"\"\n",
    "    if '>>' in string:\n",
    "        string = string.split(' >> ')\n",
    "        category = string[0][2:]\n",
    "    else:\n",
    "        category = 'None'\n",
    "    return category"
   ]
  },
  {
   "cell_type": "code",
   "execution_count": 6,
   "id": "sized-finance",
   "metadata": {
    "colab": {
     "base_uri": "https://localhost:8080/"
    },
    "id": "sized-finance",
    "outputId": "bed022c5-2ded-41d3-dde0-ce259db2a78e"
   },
   "outputs": [
    {
     "name": "stdout",
     "output_type": "stream",
     "text": [
      "Valid category:  Furniture\n",
      "Invalid category:  None\n"
     ]
    }
   ],
   "source": [
    "print(\"Valid category: \", \n",
    "      get_category('[\"Furniture >> Living Room Furniture >> Sofa Beds & Futons >> FabHomeDecor Fabric Double Sofa Bed (Finish Colo...\"]'))\n",
    "\n",
    "print(\"Invalid category: \", get_category('Furniture'))"
   ]
  },
  {
   "cell_type": "code",
   "execution_count": 7,
   "id": "homeless-bruce",
   "metadata": {
    "colab": {
     "base_uri": "https://localhost:8080/"
    },
    "id": "homeless-bruce",
    "outputId": "f63d4f0d-8330-46bb-a1be-a733a39b0d0c"
   },
   "outputs": [
    {
     "name": "stdout",
     "output_type": "stream",
     "text": [
      "<class 'pandas.core.frame.DataFrame'>\n",
      "RangeIndex: 20000 entries, 0 to 19999\n",
      "Data columns (total 15 columns):\n",
      " #   Column                   Non-Null Count  Dtype  \n",
      "---  ------                   --------------  -----  \n",
      " 0   uniq_id                  20000 non-null  object \n",
      " 1   crawl_timestamp          20000 non-null  object \n",
      " 2   product_url              20000 non-null  object \n",
      " 3   product_name             20000 non-null  object \n",
      " 4   product_category_tree    20000 non-null  object \n",
      " 5   pid                      20000 non-null  object \n",
      " 6   retail_price             19922 non-null  float64\n",
      " 7   discounted_price         19922 non-null  float64\n",
      " 8   image                    19997 non-null  object \n",
      " 9   is_FK_Advantage_product  20000 non-null  bool   \n",
      " 10  description              19998 non-null  object \n",
      " 11  product_rating           20000 non-null  object \n",
      " 12  overall_rating           20000 non-null  object \n",
      " 13  brand                    14136 non-null  object \n",
      " 14  product_specifications   19986 non-null  object \n",
      "dtypes: bool(1), float64(2), object(12)\n",
      "memory usage: 2.2+ MB\n"
     ]
    }
   ],
   "source": [
    "# load the dataset\n",
    "flipkart_df = pd.read_csv('dataset.csv')\n",
    "flipkart_df.info()"
   ]
  },
  {
   "cell_type": "code",
   "execution_count": 8,
   "id": "sharp-deployment",
   "metadata": {
    "colab": {
     "base_uri": "https://localhost:8080/",
     "height": 357
    },
    "id": "sharp-deployment",
    "outputId": "58e1238c-f396-497d-db58-97115d713e4e"
   },
   "outputs": [
    {
     "data": {
      "text/html": [
       "<div>\n",
       "<style scoped>\n",
       "    .dataframe tbody tr th:only-of-type {\n",
       "        vertical-align: middle;\n",
       "    }\n",
       "\n",
       "    .dataframe tbody tr th {\n",
       "        vertical-align: top;\n",
       "    }\n",
       "\n",
       "    .dataframe thead th {\n",
       "        text-align: right;\n",
       "    }\n",
       "</style>\n",
       "<table border=\"1\" class=\"dataframe\">\n",
       "  <thead>\n",
       "    <tr style=\"text-align: right;\">\n",
       "      <th></th>\n",
       "      <th>uniq_id</th>\n",
       "      <th>product_name</th>\n",
       "      <th>product_category_tree</th>\n",
       "      <th>description</th>\n",
       "    </tr>\n",
       "  </thead>\n",
       "  <tbody>\n",
       "    <tr>\n",
       "      <th>0</th>\n",
       "      <td>c2d766ca982eca8304150849735ffef9</td>\n",
       "      <td>Alisha Solid Women's Cycling Shorts</td>\n",
       "      <td>[\"Clothing &gt;&gt; Women's Clothing &gt;&gt; Lingerie, Sl...</td>\n",
       "      <td>Key Features of Alisha Solid Women's Cycling S...</td>\n",
       "    </tr>\n",
       "    <tr>\n",
       "      <th>1</th>\n",
       "      <td>7f7036a6d550aaa89d34c77bd39a5e48</td>\n",
       "      <td>FabHomeDecor Fabric Double Sofa Bed</td>\n",
       "      <td>[\"Furniture &gt;&gt; Living Room Furniture &gt;&gt; Sofa B...</td>\n",
       "      <td>FabHomeDecor Fabric Double Sofa Bed (Finish Co...</td>\n",
       "    </tr>\n",
       "    <tr>\n",
       "      <th>2</th>\n",
       "      <td>f449ec65dcbc041b6ae5e6a32717d01b</td>\n",
       "      <td>AW Bellies</td>\n",
       "      <td>[\"Footwear &gt;&gt; Women's Footwear &gt;&gt; Ballerinas &gt;...</td>\n",
       "      <td>Key Features of AW Bellies Sandals Wedges Heel...</td>\n",
       "    </tr>\n",
       "    <tr>\n",
       "      <th>3</th>\n",
       "      <td>0973b37acd0c664e3de26e97e5571454</td>\n",
       "      <td>Alisha Solid Women's Cycling Shorts</td>\n",
       "      <td>[\"Clothing &gt;&gt; Women's Clothing &gt;&gt; Lingerie, Sl...</td>\n",
       "      <td>Key Features of Alisha Solid Women's Cycling S...</td>\n",
       "    </tr>\n",
       "    <tr>\n",
       "      <th>4</th>\n",
       "      <td>bc940ea42ee6bef5ac7cea3fb5cfbee7</td>\n",
       "      <td>Sicons All Purpose Arnica Dog Shampoo</td>\n",
       "      <td>[\"Pet Supplies &gt;&gt; Grooming &gt;&gt; Skin &amp; Coat Care...</td>\n",
       "      <td>Specifications of Sicons All Purpose Arnica Do...</td>\n",
       "    </tr>\n",
       "  </tbody>\n",
       "</table>\n",
       "</div>"
      ],
      "text/plain": [
       "                            uniq_id                           product_name  \\\n",
       "0  c2d766ca982eca8304150849735ffef9    Alisha Solid Women's Cycling Shorts   \n",
       "1  7f7036a6d550aaa89d34c77bd39a5e48    FabHomeDecor Fabric Double Sofa Bed   \n",
       "2  f449ec65dcbc041b6ae5e6a32717d01b                             AW Bellies   \n",
       "3  0973b37acd0c664e3de26e97e5571454    Alisha Solid Women's Cycling Shorts   \n",
       "4  bc940ea42ee6bef5ac7cea3fb5cfbee7  Sicons All Purpose Arnica Dog Shampoo   \n",
       "\n",
       "                               product_category_tree  \\\n",
       "0  [\"Clothing >> Women's Clothing >> Lingerie, Sl...   \n",
       "1  [\"Furniture >> Living Room Furniture >> Sofa B...   \n",
       "2  [\"Footwear >> Women's Footwear >> Ballerinas >...   \n",
       "3  [\"Clothing >> Women's Clothing >> Lingerie, Sl...   \n",
       "4  [\"Pet Supplies >> Grooming >> Skin & Coat Care...   \n",
       "\n",
       "                                         description  \n",
       "0  Key Features of Alisha Solid Women's Cycling S...  \n",
       "1  FabHomeDecor Fabric Double Sofa Bed (Finish Co...  \n",
       "2  Key Features of AW Bellies Sandals Wedges Heel...  \n",
       "3  Key Features of Alisha Solid Women's Cycling S...  \n",
       "4  Specifications of Sicons All Purpose Arnica Do...  "
      ]
     },
     "execution_count": 8,
     "metadata": {},
     "output_type": "execute_result"
    }
   ],
   "source": [
    "# the following columns do not contribute to the task, so we can drop them safely\n",
    "# Columns: crawl_timestamp, product_url, pid, retail_price, discounted_price,\n",
    "# image, is_FK_Advantage_product, product_rating, overall_rating, product_specifications\n",
    "flipkart_df = flipkart_df[['uniq_id', 'product_name', 'product_category_tree', 'description']]\n",
    "\n",
    "# since description is the miain feature, we remove the rows for which the description is missing\n",
    "flipkart_df = flipkart_df[~flipkart_df['description'].isnull()]\n",
    "flipkart_df.head(5)"
   ]
  },
  {
   "cell_type": "code",
   "execution_count": 9,
   "id": "dental-brush",
   "metadata": {
    "colab": {
     "base_uri": "https://localhost:8080/",
     "height": 289
    },
    "id": "dental-brush",
    "outputId": "9ff60955-69a4-4888-940e-d44a0ea3d9d5"
   },
   "outputs": [
    {
     "data": {
      "text/html": [
       "<div>\n",
       "<style scoped>\n",
       "    .dataframe tbody tr th:only-of-type {\n",
       "        vertical-align: middle;\n",
       "    }\n",
       "\n",
       "    .dataframe tbody tr th {\n",
       "        vertical-align: top;\n",
       "    }\n",
       "\n",
       "    .dataframe thead th {\n",
       "        text-align: right;\n",
       "    }\n",
       "</style>\n",
       "<table border=\"1\" class=\"dataframe\">\n",
       "  <thead>\n",
       "    <tr style=\"text-align: right;\">\n",
       "      <th></th>\n",
       "      <th>uniq_id</th>\n",
       "      <th>product_name</th>\n",
       "      <th>primary_category</th>\n",
       "      <th>description</th>\n",
       "    </tr>\n",
       "  </thead>\n",
       "  <tbody>\n",
       "    <tr>\n",
       "      <th>0</th>\n",
       "      <td>c2d766ca982eca8304150849735ffef9</td>\n",
       "      <td>Alisha Solid Women's Cycling Shorts</td>\n",
       "      <td>Clothing</td>\n",
       "      <td>Key Features of Alisha Solid Women's Cycling S...</td>\n",
       "    </tr>\n",
       "    <tr>\n",
       "      <th>1</th>\n",
       "      <td>7f7036a6d550aaa89d34c77bd39a5e48</td>\n",
       "      <td>FabHomeDecor Fabric Double Sofa Bed</td>\n",
       "      <td>Furniture</td>\n",
       "      <td>FabHomeDecor Fabric Double Sofa Bed (Finish Co...</td>\n",
       "    </tr>\n",
       "    <tr>\n",
       "      <th>2</th>\n",
       "      <td>f449ec65dcbc041b6ae5e6a32717d01b</td>\n",
       "      <td>AW Bellies</td>\n",
       "      <td>Footwear</td>\n",
       "      <td>Key Features of AW Bellies Sandals Wedges Heel...</td>\n",
       "    </tr>\n",
       "    <tr>\n",
       "      <th>3</th>\n",
       "      <td>0973b37acd0c664e3de26e97e5571454</td>\n",
       "      <td>Alisha Solid Women's Cycling Shorts</td>\n",
       "      <td>Clothing</td>\n",
       "      <td>Key Features of Alisha Solid Women's Cycling S...</td>\n",
       "    </tr>\n",
       "    <tr>\n",
       "      <th>4</th>\n",
       "      <td>bc940ea42ee6bef5ac7cea3fb5cfbee7</td>\n",
       "      <td>Sicons All Purpose Arnica Dog Shampoo</td>\n",
       "      <td>Pet Supplies</td>\n",
       "      <td>Specifications of Sicons All Purpose Arnica Do...</td>\n",
       "    </tr>\n",
       "  </tbody>\n",
       "</table>\n",
       "</div>"
      ],
      "text/plain": [
       "                            uniq_id                           product_name  \\\n",
       "0  c2d766ca982eca8304150849735ffef9    Alisha Solid Women's Cycling Shorts   \n",
       "1  7f7036a6d550aaa89d34c77bd39a5e48    FabHomeDecor Fabric Double Sofa Bed   \n",
       "2  f449ec65dcbc041b6ae5e6a32717d01b                             AW Bellies   \n",
       "3  0973b37acd0c664e3de26e97e5571454    Alisha Solid Women's Cycling Shorts   \n",
       "4  bc940ea42ee6bef5ac7cea3fb5cfbee7  Sicons All Purpose Arnica Dog Shampoo   \n",
       "\n",
       "  primary_category                                        description  \n",
       "0         Clothing  Key Features of Alisha Solid Women's Cycling S...  \n",
       "1        Furniture  FabHomeDecor Fabric Double Sofa Bed (Finish Co...  \n",
       "2         Footwear  Key Features of AW Bellies Sandals Wedges Heel...  \n",
       "3         Clothing  Key Features of Alisha Solid Women's Cycling S...  \n",
       "4     Pet Supplies  Specifications of Sicons All Purpose Arnica Do...  "
      ]
     },
     "execution_count": 9,
     "metadata": {},
     "output_type": "execute_result"
    }
   ],
   "source": [
    "# get primary categories\n",
    "flipkart_df['product_category_tree'] = flipkart_df['product_category_tree'].apply(get_category)\n",
    "\n",
    "# rename product_category_tree to primay_category\n",
    "flipkart_df.rename(columns={'product_category_tree': 'primary_category'}, inplace=True)\n",
    "flipkart_df.head(5)"
   ]
  },
  {
   "cell_type": "code",
   "execution_count": 10,
   "id": "optical-sharp",
   "metadata": {
    "colab": {
     "base_uri": "https://localhost:8080/",
     "height": 581
    },
    "id": "optical-sharp",
    "outputId": "a5704364-4a9c-4dd3-c933-883ad8a7ca0c"
   },
   "outputs": [
    {
     "data": {
      "image/png": "[encoded data removed]",
      "text/plain": [
       "<Figure size 1080x720 with 1 Axes>"
      ]
     },
     "metadata": {
      "needs_background": "light"
     },
     "output_type": "display_data"
    }
   ],
   "source": [
    "# visualise the split of categories\n",
    "plt.figure(figsize=(15,10))\n",
    "sns.set_theme(style='darkgrid')\n",
    "ax = sns.countplot(y='primary_category', data=flipkart_df, order=flipkart_df['primary_category'].value_counts().index)"
   ]
  },
  {
   "cell_type": "code",
   "execution_count": 11,
   "id": "final-overhead",
   "metadata": {
    "colab": {
     "base_uri": "https://localhost:8080/"
    },
    "id": "final-overhead",
    "outputId": "94a20680-0bb5-45e3-e579-460b59372bb4"
   },
   "outputs": [
    {
     "name": "stdout",
     "output_type": "stream",
     "text": [
      "Primary categories:  ['Clothing', 'Jewellery', 'Footwear', 'Mobiles & Accessories', 'Automotive', 'Home Decor & Festive Needs', 'Beauty and Personal Care', 'Home Furnishing', 'Kitchen & Dining', 'Computers', 'Watches', 'Baby Care', 'Tools & Hardware', 'Toys & School Supplies', 'Pens & Stationery']\n"
     ]
    }
   ],
   "source": [
    "# drop rows with unknown primary category, i.e., primary_category = 'None'\n",
    "flipkart_df = flipkart_df[flipkart_df['primary_category'] != 'None']\n",
    "flipkart_df.groupby(['primary_category']).count().sort_values(by='uniq_id', ascending=False)\n",
    "\n",
    "# get a list of only top 15 categories (by count of products)\n",
    "# tbe remaining categories contribute less than 1% products each, so we can drop them for the meanwhile\n",
    "categories = list(flipkart_df.groupby('primary_category').count().sort_values(by='uniq_id',ascending=False).head(15).index)\n",
    "print(\"Primary categories: \", categories)"
   ]
  },
  {
   "cell_type": "code",
   "execution_count": 12,
   "id": "naval-fraud",
   "metadata": {
    "colab": {
     "base_uri": "https://localhost:8080/"
    },
    "id": "naval-fraud",
    "outputId": "970b71a8-1a74-4f97-f0a1-4a701a0b04e5"
   },
   "outputs": [
    {
     "name": "stdout",
     "output_type": "stream",
     "text": [
      "<class 'pandas.core.frame.DataFrame'>\n",
      "Int64Index: 18676 entries, 0 to 19999\n",
      "Data columns (total 4 columns):\n",
      " #   Column            Non-Null Count  Dtype \n",
      "---  ------            --------------  ----- \n",
      " 0   uniq_id           18676 non-null  object\n",
      " 1   product_name      18676 non-null  object\n",
      " 2   primary_category  18676 non-null  object\n",
      " 3   description       18676 non-null  object\n",
      "dtypes: object(4)\n",
      "memory usage: 729.5+ KB\n",
      "<class 'pandas.core.frame.DataFrame'>\n",
      "Int64Index: 18676 entries, 0 to 19999\n",
      "Data columns (total 4 columns):\n",
      " #   Column            Non-Null Count  Dtype \n",
      "---  ------            --------------  ----- \n",
      " 0   uniq_id           18676 non-null  object\n",
      " 1   product_name      18676 non-null  object\n",
      " 2   primary_category  18676 non-null  object\n",
      " 3   description       18676 non-null  object\n",
      "dtypes: object(4)\n",
      "memory usage: 729.5+ KB\n"
     ]
    }
   ],
   "source": [
    "# retain only the required categories\n",
    "flipkart_df = flipkart_df[flipkart_df['primary_category'].isin(categories)]\n",
    "\n",
    "# apply preprocess() to description\n",
    "flipkart_df['description'] = flipkart_df['description'].astype('str').apply(preprocess)\n",
    "flipkart_df.info()\n",
    "\n",
    "# create a new dataframe containing only the rows that have a desription\n",
    "df = flipkart_df[~flipkart_df['description'].isnull()]\n",
    "df.info()"
   ]
  },
  {
   "cell_type": "code",
   "execution_count": 13,
   "id": "G4lx1T5YU4AM",
   "metadata": {
    "id": "G4lx1T5YU4AM"
   },
   "outputs": [],
   "source": [
    "# save the preprocessed dataframe with columns (primary_category, description) for future use\n",
    "save_df = flipkart_df[['primary_category', 'description']]\n",
    "save_df.to_csv('preprocessed.csv', index=False)"
   ]
  },
  {
   "cell_type": "code",
   "execution_count": 14,
   "id": "ILbHs8wH1tuL",
   "metadata": {
    "colab": {
     "base_uri": "https://localhost:8080/"
    },
    "id": "ILbHs8wH1tuL",
    "outputId": "ee264314-2c25-4872-d082-1feb70d69ebb"
   },
   "outputs": [
    {
     "name": "stdout",
     "output_type": "stream",
     "text": [
      "['flipkartcom', 'apparels', 'ipad', 'tshirt', 'multicolor', 'showpiece', 'branded', 'kurti', 'voylla', 'leggings']\n"
     ]
    }
   ],
   "source": [
    "# use scattertext and spaCy to output the words used by different categories\n",
    "\n",
    "# create a scattertext Corpus from the dateframe\n",
    "corpus = st.CorpusFromPandas(df, category_col='primary_category', text_col='description', nlp=nlp).build()\n",
    "\n",
    "# the following words differentiate the descriptions of products from a general English corpus\n",
    "print(list(corpus.get_scaled_f_scores_vs_background().index[:10]))"
   ]
  },
  {
   "cell_type": "code",
   "execution_count": 15,
   "id": "sVP8P3UI98YU",
   "metadata": {
    "colab": {
     "base_uri": "https://localhost:8080/"
    },
    "id": "sVP8P3UI98YU",
    "outputId": "ff2e5577-f4a8-4ba9-a4f9-064b703651d2"
   },
   "outputs": [
    {
     "name": "stdout",
     "output_type": "stream",
     "text": [
      "Most popular terms for category Clothing:  ['mens polo', 'printed womens', 'printed mens', 'bra', 'womens coverage', 'tshirt rs', 'tshirt buy', 'solid mens', 'coverage bra', 'womens solid']\n",
      "Most popular terms for category Jewellery:  ['k ring', 'ring rs', 'diamond k', 'alloy necklace', 'necklace rs', 'bangle set', 'necklace buy', 'karatcraft', 'ring buy', 'gold diamond']\n",
      "Most popular terms for category Footwear:  ['wedges flipkartcom', 'women flats', 'sandal details', 'shoes buy', 'general occasion', 'women heels', 'loafers buy', 'pack weight', 'bellies', 'g single']\n",
      "Most popular terms for category Mobiles & Accessories:  ['ipad sleeves', 'world currently', 'love world', 'covers sizes', 'mobile covers', 'robust mobile', 'sourced artists', 'painstakingly sourced', 'art painstakingly', 'licensed art']\n",
      "Most popular terms for category Automotive:  ['tata', 'speedwav', 'mahindra', 'sunshade', 'rear view', 'view mirror', 'car mat', 'buy allure', 'allure auto', 'car tray']\n",
      "Most popular terms for category Home Decor & Festive Needs:  ['dia wall', 'wall sticker', 'cm dia', 'cm rs', 'destudio', 'cm online', 'canvas painting', 'wall clock', 'analog cm', 'vase']\n",
      "Most popular terms for category Beauty and Personal Care:  ['lowest prices', 'massage cream', 'set online', 'prices genuine', 'oxyglow', 'vitamine', 'cream vitamine', 'fruit massage', 'flipkartcom lowest', 'mxofere combo']\n",
      "Most popular terms for category Home Furnishing:  ['cushions cover', 'diwan', 'multicolor self', 'curtain rs', 'cotonex', 'quilt', 'dhurrie', 'design eyelet', 'buy homeehub', 'homeehub']\n",
      "Most popular terms for category Kitchen & Dining:  ['rockmantra', 'mug ceramic', 'serve teacoffee', 'elegant serve', 'wardrobe looks', 'kitchen wardrobe', 'add kitchen', 'quote says', 'material perfect', 'ceramic material']\n",
      "Most popular terms for category Computers:  ['rohs leaving', 'like ce', 'pavilion', 'usb fan', 'battery rs', 'usb led', 'quality parts', 'passes necessary', 'necessary authentication', 'authentication certifications']\n",
      "Most popular terms for category Watches:  ['discounts genuine', 'digital watch', 'india flipkartcom', 'maxima', 'buy maxima', 'rs india', 'watch women', 'great discounts', 'men buy', 'buckle clasp']\n",
      "Most popular terms for category Baby Care:  ['babeezworld baby', 'walldesign small', 'elite collection', 'collection medium', 'acrylic sticker', 'boys romper', 'dungaree set', 'wallmantra large', 'medium paper', 'store medium']\n",
      "Most popular terms for category Tools & Hardware:  ['easy gardening', 'planters', 'watering', 'gardening inch', 'deal plant', 'plant container', 'saviour', 'stoic', 'container set', 'yuccabe']\n",
      "Most popular terms for category Toys & School Supplies:  ['multicolor important', 'girls type', 'image general', 'general age', 'action figure', 'parts vary', 'type action', 'toys online', 'product parts', 'note color']\n",
      "Most popular terms for category Pens & Stationery:  ['amy', 'plastic punches', 'folder', 'fountain pen', 'journal', 'platignum', 'punching machines', 'punches punching', 'tootpado art', 'pages']\n"
     ]
    }
   ],
   "source": [
    "# find the terms that are most associated with product descriptions of different primary categories\n",
    "term_freq_df = corpus.get_term_freq_df()\n",
    "\n",
    "# for each category, print the most popular terms in the product descriptions\n",
    "# this gives us an idea about how the different categories will be distinguised\n",
    "for category in categories:\n",
    "    score = category + ' Score'\n",
    "    term_freq_df[score] = corpus.get_scaled_f_scores(category)\n",
    "    print(f\"Most popular terms for category {category}: \", list(term_freq_df.sort_values(by=score, ascending=False).index[:10]))"
   ]
  },
  {
   "cell_type": "code",
   "execution_count": 16,
   "id": "sFPQa108AQ7l",
   "metadata": {
    "colab": {
     "base_uri": "https://localhost:8080/",
     "height": 628
    },
    "id": "sFPQa108AQ7l",
    "outputId": "fca6e11a-2b9d-43e6-f87a-0d06dba8d0e5"
   },
   "outputs": [
    {
     "name": "stdout",
     "output_type": "stream",
     "text": [
      "312.1575819233241\n"
     ]
    },
    {
     "data": {
      "image/png": "[encoded data removed]",
      "text/plain": [
       "<Figure size 1080x720 with 1 Axes>"
      ]
     },
     "metadata": {},
     "output_type": "display_data"
    }
   ],
   "source": [
    "# find the average length of descriptions\n",
    "df['description len'] = df['description'].str.len()\n",
    "print(np.mean(df['description len']))\n",
    "\n",
    "# create a new dataframe that stores the average length of descriptions grouped by category\n",
    "dfg = df.groupby('primary_category')['description len'].mean().reset_index()\n",
    "\n",
    "# plot average length of descriptions category-wise\n",
    "plt.figure(figsize=(15,10))\n",
    "sns.set_theme(style='darkgrid')\n",
    "ax = sns.barplot(x='description len', y=dfg['primary_category'], data=dfg)"
   ]
  },
  {
   "cell_type": "markdown",
   "id": "I4vc5174-wYJ",
   "metadata": {
    "id": "I4vc5174-wYJ"
   },
   "source": [
    "## Feature Engineering\n",
    "1) CountVetorizer <br>\n",
    "2) TF-IDF"
   ]
  },
  {
   "cell_type": "code",
   "execution_count": 17,
   "id": "xfT7tvCOJGhF",
   "metadata": {
    "id": "xfT7tvCOJGhF"
   },
   "outputs": [],
   "source": [
    "# split the dataset into training and validation datasets \n",
    "train_x, test_x, train_y, test_y = model_selection.train_test_split(flipkart_df['description'], flipkart_df['primary_category'])\n",
    "\n",
    "# label encode the target variable \n",
    "encoder = preprocessing.LabelEncoder()\n",
    "train_y = encoder.fit_transform(train_y)\n",
    "test_y = encoder.fit_transform(test_y)"
   ]
  },
  {
   "cell_type": "markdown",
   "id": "21mfnOB4BAFA",
   "metadata": {
    "id": "21mfnOB4BAFA"
   },
   "source": [
    "### Count Vector\n",
    "\n"
   ]
  },
  {
   "cell_type": "code",
   "execution_count": 18,
   "id": "kEtbN9QQA4Jv",
   "metadata": {
    "id": "kEtbN9QQA4Jv"
   },
   "outputs": [],
   "source": [
    "# create a count vectorizer object \n",
    "count_vect = CountVectorizer(analyzer='word', token_pattern=r'\\w{1,}')"
   ]
  },
  {
   "cell_type": "markdown",
   "id": "U6gXtxFtBbic",
   "metadata": {
    "id": "U6gXtxFtBbic"
   },
   "source": [
    "### TF-IDF Vectors"
   ]
  },
  {
   "cell_type": "code",
   "execution_count": 19,
   "id": "1pYNeD0SBY2z",
   "metadata": {
    "id": "1pYNeD0SBY2z"
   },
   "outputs": [],
   "source": [
    "# word level tf-idf\n",
    "tfidf_vect = TfidfVectorizer(analyzer='word', token_pattern=r'\\w{1,}')"
   ]
  },
  {
   "cell_type": "markdown",
   "id": "Jk9fV-z4CfeT",
   "metadata": {
    "id": "Jk9fV-z4CfeT"
   },
   "source": [
    "## Naives Bayes Classifer"
   ]
  },
  {
   "cell_type": "code",
   "execution_count": 23,
   "id": "78HH0S9hCRNf",
   "metadata": {
    "id": "78HH0S9hCRNf"
   },
   "outputs": [],
   "source": [
    "def NBClassifier(train_x, test_x, train_y, test_y, vect):\n",
    "    \"\"\"\n",
    "    Train and evaluate a Naive Bayes classifier on the data.\n",
    "\n",
    "    Args:\n",
    "        vect: Vectorizer used to fit and transform data (Count or TF-IDF)\n",
    "    \"\"\"\n",
    "    # define NB model\n",
    "    classifier = naive_bayes.MultinomialNB()\n",
    "\n",
    "    # convert the training data\n",
    "    vect_train_x = vect.fit_transform(train_x)\n",
    "    \n",
    "    # fit the data to the NB model\n",
    "    classifier.fit(vect_train_x, train_y)\n",
    "\n",
    "    # print the score of the model\n",
    "    print(f\"Accuracy achieved on train set: \", classifier.score(vect_train_x, train_y) * 100, \"%\")\n",
    "\n",
    "    # convert the test data\n",
    "    vect_test_x = vect.transform(test_x)\n",
    "\n",
    "    # print the score of the model\n",
    "    print(f\"Accuracy achieved on test set: \", classifier.score(vect_test_x, test_y) * 100, \"%\")\n",
    "\n",
    "    # predict the labesl for test data\n",
    "    predict_y = classifier.predict(vect_test_x)\n",
    "\n",
    "    # print classification report\n",
    "    print(\"\\nClassification report: \")\n",
    "    print(classification_report(test_y, predict_y))"
   ]
  },
  {
   "cell_type": "code",
   "execution_count": 24,
   "id": "BL2PGuNFFf8N",
   "metadata": {
    "colab": {
     "base_uri": "https://localhost:8080/"
    },
    "id": "BL2PGuNFFf8N",
    "outputId": "91295423-6754-4ab8-84df-7196bf11bcfa"
   },
   "outputs": [
    {
     "name": "stdout",
     "output_type": "stream",
     "text": [
      "Accuracy achieved on train set:  91.51852645106018 %\n",
      "Accuracy achieved on test set:  89.78367958877705 %\n",
      "\n",
      "Classification report: \n",
      "              precision    recall  f1-score   support\n",
      "\n",
      "           0       0.94      0.96      0.95       257\n",
      "           1       1.00      0.42      0.59       118\n",
      "           2       1.00      0.65      0.79       172\n",
      "           3       0.90      1.00      0.95      1506\n",
      "           4       1.00      0.65      0.79       160\n",
      "           5       1.00      0.93      0.96       291\n",
      "           6       0.93      0.92      0.93       235\n",
      "           7       0.92      0.83      0.87       179\n",
      "           8       0.80      1.00      0.89       919\n",
      "           9       0.98      0.75      0.85       156\n",
      "          10       0.91      0.95      0.93       288\n",
      "          11       1.00      0.20      0.33        76\n",
      "          12       1.00      0.81      0.89       108\n",
      "          13       1.00      0.09      0.17        76\n",
      "          14       1.00      0.97      0.98       128\n",
      "\n",
      "    accuracy                           0.90      4669\n",
      "   macro avg       0.96      0.74      0.79      4669\n",
      "weighted avg       0.91      0.90      0.88      4669\n",
      "\n"
     ]
    }
   ],
   "source": [
    "NBClassifier(train_x, test_x, train_y, test_y, tfidf_vect)"
   ]
  },
  {
   "cell_type": "code",
   "execution_count": 25,
   "id": "91kBMDy1FsHJ",
   "metadata": {
    "colab": {
     "base_uri": "https://localhost:8080/"
    },
    "id": "91kBMDy1FsHJ",
    "outputId": "6ac095e1-1777-44eb-d79a-1855c888eeaa"
   },
   "outputs": [
    {
     "name": "stdout",
     "output_type": "stream",
     "text": [
      "Accuracy achieved on train set:  96.63739558792032 %\n",
      "Accuracy achieved on test set:  95.1167273506104 %\n",
      "\n",
      "Classification report: \n",
      "              precision    recall  f1-score   support\n",
      "\n",
      "           0       0.94      0.98      0.96       257\n",
      "           1       0.93      0.57      0.71       118\n",
      "           2       0.91      0.98      0.95       172\n",
      "           3       0.98      1.00      0.99      1506\n",
      "           4       0.91      0.78      0.84       160\n",
      "           5       0.98      0.98      0.98       291\n",
      "           6       0.90      0.99      0.94       235\n",
      "           7       0.91      0.99      0.95       179\n",
      "           8       0.94      1.00      0.97       919\n",
      "           9       0.98      0.83      0.90       156\n",
      "          10       0.96      0.92      0.94       288\n",
      "          11       0.95      0.47      0.63        76\n",
      "          12       0.96      0.94      0.95       108\n",
      "          13       0.72      0.74      0.73        76\n",
      "          14       0.99      0.99      0.99       128\n",
      "\n",
      "    accuracy                           0.95      4669\n",
      "   macro avg       0.93      0.88      0.89      4669\n",
      "weighted avg       0.95      0.95      0.95      4669\n",
      "\n"
     ]
    }
   ],
   "source": [
    "NBClassifier(train_x, test_x, train_y, test_y, count_vect)"
   ]
  },
  {
   "cell_type": "markdown",
   "id": "surrounded-primary",
   "metadata": {},
   "source": [
    "### Result\n",
    "Using traditional ML algorithms, I found out that the Naive Bayes algorithm performs very well on the given dataset for product classifcaiton.\n",
    "\n",
    "Among the two variants considered, the one with the Count Vectorizer performs better than the TF-IDF Vectorizer."
   ]
  }
 ],
 "metadata": {
  "colab": {
   "collapsed_sections": [
    "I4vc5174-wYJ",
    "NUDlxT6gGARN"
   ],
   "name": "flipkart_exploration.ipynb",
   "provenance": []
  },
  "kernelspec": {
   "display_name": "Python 3",
   "language": "python",
   "name": "python3"
  },
  "language_info": {
   "codemirror_mode": {
    "name": "ipython",
    "version": 3
   },
   "file_extension": ".py",
   "mimetype": "text/x-python",
   "name": "python",
   "nbconvert_exporter": "python",
   "pygments_lexer": "ipython3",
   "version": "3.7.10"
  }
 },
 "nbformat": 4,
 "nbformat_minor": 5
}
